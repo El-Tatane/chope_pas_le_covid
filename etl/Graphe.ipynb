{
 "cells": [
  {
   "cell_type": "code",
   "execution_count": 168,
   "metadata": {},
   "outputs": [],
   "source": [
    "#Import bibli\n",
    "import pandas as pd\n",
    "pd.set_option('display.max_columns', None)\n",
    "pd.set_option('max_colwidth',800)\n",
    "\n",
    "\n",
    "\n",
    "\n",
    "\n",
    "#Modification des csv\n",
    "\n",
    "\n",
    "#Import csv\n",
    "\n",
    "def transform(df):\n",
    "    df.index=df[\"Country/Region\"]\n",
    "    df=df.drop(columns=[\"Country/Region\",'Lat','Long','Province/State'])\n",
    "    df=df.groupby(\"Country/Region\").sum()\n",
    "    return df\n",
    "\n",
    "\n",
    "def get_confirm():\n",
    "    confirm=pd.read_csv('../../dataset/global/time_series_covid19_confirmed_global.csv', sep = ',')\n",
    "    confirm=transform(confirm)\n",
    "    return confirm\n",
    "\n",
    "\n",
    "def get_deaths():\n",
    "    deaths =pd.read_csv('../../dataset/global/time_series_covid19_deaths_global.csv', sep = ',')\n",
    "    deaths=transform(deaths)\n",
    "    return deaths\n",
    "\n",
    "\n",
    "def get_recover():\n",
    "    recover=pd.read_csv('../../dataset/global/time_series_covid19_recovered_global.csv', sep = ',')\n",
    "    recover=transform(recover)\n",
    "    return recover\n",
    "\n",
    "def get_total():\n",
    "    total=pd.read_csv('../../dataset/global/WPP2019_TotalPopulationBySex.csv', sep = ',')\n",
    "    total=total[total[\"Time\"]==2019]\n",
    "    return total\n",
    "\n"
   ]
  },
  {
   "cell_type": "code",
   "execution_count": 173,
   "metadata": {},
   "outputs": [
    {
     "data": {
      "image/png": "[encoded data removed]",
      "text/plain": [
       "<Figure size 432x288 with 1 Axes>"
      ]
     },
     "metadata": {
      "needs_background": "light"
     },
     "output_type": "display_data"
    }
   ],
   "source": [
    "tot=get_total()\n",
    "con=get_confirm()\n",
    "recover=get_recover()\n",
    "deaths=get_deaths()\n",
    "Graphe(confirm=con,total=tot,recover=recover,deaths=deaths,country=\"France\")"
   ]
  },
  {
   "cell_type": "markdown",
   "metadata": {},
   "source": [
    "### Methode"
   ]
  },
  {
   "cell_type": "code",
   "execution_count": 171,
   "metadata": {},
   "outputs": [],
   "source": [
    "def conf_by_country(df,country):\n",
    "    return df.loc[country]\n",
    "def total_by_country(df,country):\n",
    "    return int(df.loc[(df[\"Location\"]==country)&(df[\"Time\"]==2019),\"PopTotal\"].values[0] * 1000)\n",
    "def Graphe(confirm,recover,deaths,country,total):\n",
    "    confirm_country=conf_by_country(confirm,country)\n",
    "    confirm_country.plot.line()\n",
    "\n",
    "\n",
    "\n",
    "    recover_country=conf_by_country(recover,country)\n",
    "    recover_country.plot.line()\n",
    "\n",
    "    country_death=conf_by_country(deaths,country)\n",
    "\n",
    "    potential_contamination = total_by_country(total,country) - (country_death + recover_country)\n",
    "    potential_contamination = 800000 - (country_death + recover_country)\n",
    "    potential_contamination.plot.line()\n",
    "    #mal.plot.line(logy=True)"
   ]
  },
  {
   "cell_type": "code",
   "execution_count": null,
   "metadata": {},
   "outputs": [],
   "source": []
  }
 ],
 "metadata": {
  "kernelspec": {
   "display_name": "Python 3",
   "language": "python",
   "name": "python3"
  },
  "language_info": {
   "codemirror_mode": {
    "name": "ipython",
    "version": 3
   },
   "file_extension": ".py",
   "mimetype": "text/x-python",
   "name": "python",
   "nbconvert_exporter": "python",
   "pygments_lexer": "ipython3",
   "version": "3.6.9"
  }
 },
 "nbformat": 4,
 "nbformat_minor": 4
}
