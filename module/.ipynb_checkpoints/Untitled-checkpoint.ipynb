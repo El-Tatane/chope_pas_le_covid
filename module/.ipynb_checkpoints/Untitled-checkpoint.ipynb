{
 "cells": [
  {
   "cell_type": "code",
   "execution_count": 3,
   "metadata": {},
   "outputs": [
    {
     "name": "stdout",
     "output_type": "stream",
     "text": [
      "Requirement already satisfied: scipy in /usr/local/lib/python3.8/dist-packages (1.4.1)\r\n",
      "Requirement already satisfied: numpy>=1.13.3 in /usr/local/lib/python3.8/dist-packages (from scipy) (1.18.4)\r\n"
     ]
    }
   ],
   "source": [
    "!pip3 install scipy"
   ]
  },
  {
   "cell_type": "code",
   "execution_count": 10,
   "metadata": {},
   "outputs": [
    {
     "name": "stdout",
     "output_type": "stream",
     "text": [
      "[]\n"
     ]
    }
   ],
   "source": [
    "import numpy as np\n",
    "from scipy.integrate import solve_ivp, odeint\n",
    "\n",
    "class SIRModel():\n",
    "    \"\"\"\n",
    "    Blabla sur SIR model\n",
    "    \n",
    "    TODO : equations\n",
    "\n",
    "    \"\"\"\n",
    "    def __init__(self, beta=0.1, gamma=0.3, run_default=False):\n",
    "        # self.beta_0 = beta_init\n",
    "        # self.gamma_0 = gamma_init\n",
    "        self.beta_ = None\n",
    "        self.gamma_ = None\n",
    "        if run_default:\n",
    "            self.beta_ = beta\n",
    "            self.gamma_ = gamma\n",
    "\n",
    "    def fit(self, X, y):\n",
    "        return self\n",
    "\n",
    "    \"\"\"\n",
    "        S = those susceptible but not yet infected with the disease\n",
    "        I = the number of infectious individuals\n",
    "        R = those individuals who have recovered from the disease and now have immunity to it\n",
    "    \"\"\"\n",
    "\n",
    "    def predict(self, init_population, init_infected, day_number, init_recovered=0):\n",
    "        t = np.linspace(0, day_number, day_number)\n",
    "        SIR = (init_population - init_infected - init_recovered, init_infected, init_recovered)\n",
    "        res = odeint(self.deriv, SIR, t, args=(init_population, self.beta_, self.gamma_))\n",
    "        return res.T\n",
    "\n",
    "    def deriv(self, SIR, t, N, beta, gamma):\n",
    "        S, I, R = SIR\n",
    "        dSdt = -beta * S * I / N\n",
    "        dIdt = beta * S * I / N - gamma * I\n",
    "        dRdt = gamma * I\n",
    "        return dSdt, dIdt, dRdt\n",
    "\n",
    "\n",
    "if __name__ == '__main__':\n",
    "    sir_model = SIRModel(run_default=True)\n",
    "    print(sir_model.predict(1000, 1, 0, 160))\n",
    "    \n",
    "\n"
   ]
  },
  {
   "cell_type": "code",
   "execution_count": null,
   "metadata": {},
   "outputs": [],
   "source": []
  }
 ],
 "metadata": {
  "kernelspec": {
   "display_name": "Python 3",
   "language": "python",
   "name": "python3"
  },
  "language_info": {
   "codemirror_mode": {
    "name": "ipython",
    "version": 3
   },
   "file_extension": ".py",
   "mimetype": "text/x-python",
   "name": "python",
   "nbconvert_exporter": "python",
   "pygments_lexer": "ipython3",
   "version": "3.6.9"
  }
 },
 "nbformat": 4,
 "nbformat_minor": 4
}
